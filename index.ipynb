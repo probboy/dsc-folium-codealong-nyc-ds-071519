{
 "cells": [
  {
   "cell_type": "markdown",
   "metadata": {},
   "source": [
    "# Folium - Codealong\n",
    "\n",
    "## Introduction \n",
    "\n",
    "In this codealong, we'll take a look at how to create an interactive map using the Folium package. From there, we'll return to APIs in the final lab for the day where you'll make an interactive map from your requests to the API!\n",
    "\n",
    "## Objectives\n",
    "\n",
    "You will be able to: \n",
    "* Create maps with Folium"
   ]
  },
  {
   "cell_type": "markdown",
   "metadata": {},
   "source": [
    "## Creating a Basemap\n",
    "\n",
    "Here we'll take a look at creating a basemap over the London region!"
   ]
  },
  {
   "cell_type": "code",
   "execution_count": 1,
   "metadata": {
    "scrolled": false
   },
   "outputs": [
    {
     "data": {
      "text/html": [
       "<div style=\"width:100%;\"><div style=\"position:relative;width:100%;height:0;padding-bottom:60%;\"><iframe src=\"data:text/html;charset=utf-8;base64,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\" style=\"position:absolute;width:100%;height:100%;left:0;top:0;border:none !important;\" allowfullscreen webkitallowfullscreen mozallowfullscreen></iframe></div></div>"
      ],
      "text/plain": [
       "<folium.folium.Map at 0x7f4da829ccc0>"
      ]
     },
     "execution_count": 1,
     "metadata": {},
     "output_type": "execute_result"
    }
   ],
   "source": [
    "import folium\n",
    "\n",
    "lat = 51.51\n",
    "long = -0.14\n",
    "\n",
    "#Create a map of the area\n",
    "base_map = folium.Map([lat, long], zoom_start=13)\n",
    "base_map"
   ]
  },
  {
   "cell_type": "markdown",
   "metadata": {},
   "source": [
    "## Adding Markers to the Map\n",
    "\n",
    "Great! Now let's take a look at adding little markers to our map!\n",
    "\n",
    "**Note:** you may have to zoom out to see all of the markers!"
   ]
  },
  {
   "cell_type": "code",
   "execution_count": 2,
   "metadata": {},
   "outputs": [
    {
     "data": {
      "text/html": [
       "<div style=\"width:100%;\"><div style=\"position:relative;width:100%;height:0;padding-bottom:60%;\"><iframe src=\"data:text/html;charset=utf-8;base64,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\" style=\"position:absolute;width:100%;height:100%;left:0;top:0;border:none !important;\" allowfullscreen webkitallowfullscreen mozallowfullscreen></iframe></div></div>"
      ],
      "text/plain": [
       "<folium.folium.Map at 0x7f4da829ccc0>"
      ]
     },
     "execution_count": 2,
     "metadata": {},
     "output_type": "execute_result"
    }
   ],
   "source": [
    "import numpy as np\n",
    "\n",
    "#Generate some random locations to add to our map\n",
    "x = [lat + np.random.uniform(-.1,.1) for i in range(20)]\n",
    "y = [long + np.random.uniform(-.1,.1) for i in range(20)]\n",
    "points = list(zip(x, y))\n",
    "for p in points:\n",
    "    lat = p[0]\n",
    "    long = p[1]\n",
    "    marker = folium.Marker(location=[lat, long])\n",
    "    marker.add_to(base_map)\n",
    "base_map"
   ]
  },
  {
   "cell_type": "markdown",
   "metadata": {},
   "source": [
    "## Adding Pop-up Boxes to Our Markers\n",
    "\n",
    "Often we may wish to not only place markers on the map, but to create interactive pop-ups which display information to that location. To do this, we can add a popup to our markers when adding them to the map! "
   ]
  },
  {
   "cell_type": "code",
   "execution_count": null,
   "metadata": {},
   "outputs": [],
   "source": [
    "for p in points:\n",
    "    lat = p[0]\n",
    "    long = p[1]\n",
    "    popup_text = \"Latitude: {}, Longitude: {}\".format(lat,long)\n",
    "    popup = folium.Popup(popup_text, parse_html=True)\n",
    "    marker = folium.Marker(location=[lat, long], popup=popup)\n",
    "    marker.add_to(base_map)\n",
    "base_map"
   ]
  },
  {
   "cell_type": "markdown",
   "metadata": {},
   "source": [
    "Now, if you click on the map markers, you should see a little information box pop up!\n",
    "\n",
    "## Summary \n",
    "\n",
    "In this codealong, we learned how to use Folium to create some cool interactive maps with only a few lines of python code! In the next lab, you'll synthesize your skills for the day together and create an interactive visualization map for data you retrieve from the Yelp API!"
   ]
  }
 ],
 "metadata": {
  "kernelspec": {
   "display_name": "Python 3",
   "language": "python",
   "name": "python3"
  },
  "language_info": {
   "codemirror_mode": {
    "name": "ipython",
    "version": 3
   },
   "file_extension": ".py",
   "mimetype": "text/x-python",
   "name": "python",
   "nbconvert_exporter": "python",
   "pygments_lexer": "ipython3",
   "version": "3.6.6"
  }
 },
 "nbformat": 4,
 "nbformat_minor": 2
}
